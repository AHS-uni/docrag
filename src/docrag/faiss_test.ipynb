{
 "cells": [
  {
   "cell_type": "code",
   "execution_count": 9,
   "id": "f2506600-d215-40ff-b537-ccb5ecc9ee48",
   "metadata": {},
   "outputs": [
    {
     "ename": "ModuleNotFoundError",
     "evalue": "No module named 'sklearn'",
     "output_type": "error",
     "traceback": [
      "\u001b[31m---------------------------------------------------------------------------\u001b[39m",
      "\u001b[31mModuleNotFoundError\u001b[39m                       Traceback (most recent call last)",
      "\u001b[36mCell\u001b[39m\u001b[36m \u001b[39m\u001b[32mIn[9]\u001b[39m\u001b[32m, line 3\u001b[39m\n\u001b[32m      1\u001b[39m \u001b[38;5;28;01mimport\u001b[39;00m\u001b[38;5;250m \u001b[39m\u001b[34;01mfaiss\u001b[39;00m\n\u001b[32m      2\u001b[39m \u001b[38;5;28;01mimport\u001b[39;00m\u001b[38;5;250m \u001b[39m\u001b[34;01mnumpy\u001b[39;00m\u001b[38;5;250m \u001b[39m\u001b[38;5;28;01mas\u001b[39;00m\u001b[38;5;250m \u001b[39m\u001b[34;01mnp\u001b[39;00m\n\u001b[32m----> \u001b[39m\u001b[32m3\u001b[39m \u001b[38;5;28;01mfrom\u001b[39;00m\u001b[38;5;250m \u001b[39m\u001b[34;01msklearn\u001b[39;00m\u001b[34;01m.\u001b[39;00m\u001b[34;01mdatasets\u001b[39;00m\u001b[38;5;250m \u001b[39m\u001b[38;5;28;01mimport\u001b[39;00m load_iris\n",
      "\u001b[31mModuleNotFoundError\u001b[39m: No module named 'sklearn'"
     ]
    }
   ],
   "source": [
    "import faiss\n",
    "import numpy as np\n",
    "from sklearn.datasets import load_iris"
   ]
  },
  {
   "cell_type": "code",
   "execution_count": 2,
   "id": "69a653bc-47ad-4e37-8075-c6b0d3414f62",
   "metadata": {},
   "outputs": [],
   "source": [
    "from docrag.retrieval.index import FAISSIndexManager\n",
    "from pathlib import Path"
   ]
  },
  {
   "cell_type": "code",
   "execution_count": 3,
   "id": "7269f7ad-9fc6-4aa7-83aa-0bbcf525a5a7",
   "metadata": {},
   "outputs": [],
   "source": [
    "dim = 128\n",
    "manager = FAISSIndexManager(\n",
    "    index_dir=Path(\"data/indices\"),\n",
    "    dim=dim,\n",
    "    index_key=\"Flat\",\n",
    "    metric=faiss.METRIC_INNER_PRODUCT,\n",
    "    use_gpu=False,\n",
    "    mode=\"dpr\"\n",
    ")"
   ]
  },
  {
   "cell_type": "code",
   "execution_count": 4,
   "id": "ac6bc62a-3c3b-479e-9d74-04d096b308dd",
   "metadata": {},
   "outputs": [],
   "source": [
    "num_pages = 25\n",
    "embs = np.random.rand(num_pages, dim).astype(\"float32\")\n",
    "metadata = [(i+1, Path(f\"page_{i+1}.png\")) for i in range(num_pages)]"
   ]
  },
  {
   "cell_type": "code",
   "execution_count": 5,
   "id": "5f935f16-e9c2-45e6-869a-b49cbe686212",
   "metadata": {},
   "outputs": [],
   "source": [
    "manager.build_index_for_doc(\"doc_dummy\", embs, metadata, train=False)"
   ]
  },
  {
   "cell_type": "code",
   "execution_count": 6,
   "id": "977ad33f-c9f0-4c96-8364-3843075e95f8",
   "metadata": {},
   "outputs": [],
   "source": [
    "query_emb = embs[2].reshape(1, dim)"
   ]
  },
  {
   "cell_type": "code",
   "execution_count": 8,
   "id": "5dc0ed3b-0bec-4a75-a781-981f91b96657",
   "metadata": {},
   "outputs": [
    {
     "name": "stdout",
     "output_type": "stream",
     "text": [
      "Search results (page_num, score): [(3, 1.0), (10, 0.7976133823394775), (25, 0.7960182428359985), (17, 0.7852161526679993), (13, 0.7839572429656982)]\n"
     ]
    }
   ],
   "source": [
    "results = manager.search(\"doc_dummy\", query_emb, top_k=5)\n",
    "print(\"Search results (page_num, score):\", results)"
   ]
  },
  {
   "cell_type": "code",
   "execution_count": null,
   "id": "43478bc9-ba65-4971-bc75-ac728a55cda3",
   "metadata": {},
   "outputs": [],
   "source": []
  }
 ],
 "metadata": {
  "kernelspec": {
   "display_name": "Python 3 (ipykernel)",
   "language": "python",
   "name": "python3"
  },
  "language_info": {
   "codemirror_mode": {
    "name": "ipython",
    "version": 3
   },
   "file_extension": ".py",
   "mimetype": "text/x-python",
   "name": "python",
   "nbconvert_exporter": "python",
   "pygments_lexer": "ipython3",
   "version": "3.12.10"
  }
 },
 "nbformat": 4,
 "nbformat_minor": 5
}
